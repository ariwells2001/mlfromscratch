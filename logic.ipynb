{
  "nbformat": 4,
  "nbformat_minor": 0,
  "metadata": {
    "colab": {
      "name": "logic.ipynb",
      "provenance": [],
      "authorship_tag": "ABX9TyMS4cm7PlDElgBRcWInJWrP",
      "include_colab_link": true
    },
    "kernelspec": {
      "name": "python3",
      "display_name": "Python 3"
    },
    "language_info": {
      "name": "python"
    }
  },
  "cells": [
    {
      "cell_type": "markdown",
      "metadata": {
        "id": "view-in-github",
        "colab_type": "text"
      },
      "source": [
        "<a href=\"https://colab.research.google.com/github/ariwells2001/mlfromscratch/blob/main/logic.ipynb\" target=\"_parent\"><img src=\"https://colab.research.google.com/assets/colab-badge.svg\" alt=\"Open In Colab\"/></a>"
      ]
    },
    {
      "cell_type": "code",
      "execution_count": 2,
      "metadata": {
        "id": "hJwQAMvesebc"
      },
      "outputs": [],
      "source": [
        "import numpy as np\n",
        "\n",
        "def numerical_derivative(f,x):\n",
        "  delta_x = 1e-4\n",
        "  grad = np.zeros_like(x) \n",
        " # print(\"debug1. initial input vairable = {}\".format(x))\n",
        "  #print(\"debug2. initial grad = {}\".format(grad))\n",
        "  it = np.nditer(x, flags=['multi_index'], op_flags=['readwrite'])\n",
        "\n",
        "  while not it.finished:\n",
        "    idx = it.multi_index\n",
        "    \n",
        "  #  print(\"debug3. idx = {},x[idx] ={}\".format(idx,x[idx]))\n",
        "\n",
        "    tmp_val = x[idx]\n",
        "    x[idx] = float(tmp_val) + delta_x\n",
        "    fx1 = f(x)\n",
        "    x[idx] = float(tmp_val) - delta_x\n",
        "    fx2= f(x)\n",
        "    grad[idx] = (fx1-fx2)/(2*delta_x)\n",
        "    \n",
        " #   print(\"debug 4. grad[idx = {}\".format(grad[idx]))\n",
        "  #  print(\"debug 5. grad= {}\".format(grad))\n",
        " #   print(\"==================================================\")\n",
        "  \n",
        "    x[idx] = tmp_val\n",
        "    it.iternext()\n",
        "\n",
        "  return grad"
      ]
    },
    {
      "cell_type": "code",
      "source": [
        "import numpy as np\n",
        "\n",
        "def sigmoid(x):\n",
        "  return 1/(1+np.exp(-x))\n"
      ],
      "metadata": {
        "id": "6S7svzETsxJL"
      },
      "execution_count": 1,
      "outputs": []
    },
    {
      "cell_type": "code",
      "source": [
        "class LogicGate:\n",
        "  def __init__(self,gate_name,xdata,tdata):\n",
        "    self.name = gate_name\n",
        "    \n",
        "    self.__xdata = xdata.reshape(4,2)\n",
        "    self.__tdata = tdata.reshape(4,1)\n",
        "\n",
        "    self.__W = np.random.rand(2,1)\n",
        "    self.__b = np.random.rand(1)\n",
        "\n",
        "    self.__learning_rate = 1e-2\n",
        "\n",
        "  def __loss_func(self):\n",
        "\n",
        "    delta = 1e-7\n",
        "    z = np.dot(self.__xdata,self.__W) + self.__b\n",
        "    y = sigmoid(z)\n",
        "\n",
        "    return  -np.sum(self.__tdata*np.log(y + delta) + (1-self.__tdata)*np.log((1-y)+delta))\n",
        "\n",
        "  def error_val(self):\n",
        "    delta = 1e-7\n",
        "    z = np.dot(self.__xdata,self.__W) + self.__b\n",
        "    y = sigmoid(z)\n",
        "\n",
        "    return  -np.sum(self.__tdata*np.log(y + delta) + (1-self.__tdata)*np.log((1-y)+delta)) \n",
        "\n",
        "  def train(self):\n",
        "    f = lambda x: self.__loss_func()\n",
        "    print(\"Initial error value = \", self.error_val())\n",
        "    for step in range(8001):\n",
        "      \n",
        "      self.__W -= self.__learning_rate * numerical_derivative(f,self.__W)\n",
        "      self.__b -= self.__learning_rate * numerical_derivative(f,self.__b)\n",
        "\n",
        "      if(step % 400 == 0):\n",
        "        print(\"step = \", step, \"error value = \", self.error_val())\n",
        "\n",
        "  def predict(self,input_data):\n",
        "    \n",
        "    z = np.dot(input_data, self.__W) + self.__b\n",
        "    y = sigmoid(z)\n",
        "\n",
        "    if y > 0.5:\n",
        "      result = 1\n",
        "    else:\n",
        "      result = 0\n",
        "    \n",
        "    return y, result\n",
        "\n"
      ],
      "metadata": {
        "id": "_KjqYG23tCfE"
      },
      "execution_count": 10,
      "outputs": []
    },
    {
      "cell_type": "code",
      "source": [
        "xdata = np.array([0,0,0,1,1,0,1,1])\n",
        "tdata = np.array([0,0,0,1])\n",
        "test = xdata.reshape(4,2)\n",
        "print(test)\n",
        "AND_obj = LogicGate(\"AND_GATE\",xdata,tdata)\n",
        "\n",
        "AND_obj.train()\n"
      ],
      "metadata": {
        "colab": {
          "base_uri": "https://localhost:8080/"
        },
        "id": "FtExZcMb2ADt",
        "outputId": "2742a61a-4b0e-4e1a-f076-cc44acecfa12"
      },
      "execution_count": 11,
      "outputs": [
        {
          "output_type": "stream",
          "name": "stdout",
          "text": [
            "[[0 0]\n",
            " [0 1]\n",
            " [1 0]\n",
            " [1 1]]\n",
            "Initial error value =  3.8945439056191433\n",
            "step =  0 error value =  3.852443916699871\n",
            "step =  400 error value =  1.5685012863835528\n",
            "step =  800 error value =  1.1582798599813537\n",
            "step =  1200 error value =  0.9283934726715339\n",
            "step =  1600 error value =  0.7776085009277356\n",
            "step =  2000 error value =  0.6696293752156107\n",
            "step =  2400 error value =  0.5879566646244315\n",
            "step =  2800 error value =  0.5238252759520731\n",
            "step =  3200 error value =  0.47206481246972143\n",
            "step =  3600 error value =  0.4293924595314156\n",
            "step =  4000 error value =  0.3936081483913266\n",
            "step =  4400 error value =  0.36317530138909593\n",
            "step =  4800 error value =  0.3369851522433589\n",
            "step =  5200 error value =  0.3142161375501946\n",
            "step =  5600 error value =  0.2942459239182791\n",
            "step =  6000 error value =  0.2765941912898033\n",
            "step =  6400 error value =  0.2608842017380085\n",
            "step =  6800 error value =  0.24681627412673024\n",
            "step =  7200 error value =  0.2341490442175736\n",
            "step =  7600 error value =  0.222685954240643\n",
            "step =  8000 error value =  0.21226533783192097\n"
          ]
        }
      ]
    },
    {
      "cell_type": "code",
      "source": [
        "print(AND_obj.name,\"\\n\")\n",
        "\n",
        "test_data = np.array([[0,0],[0,1],[1,0],[1,1,]])\n",
        "\n",
        "for input_data in test_data:\n",
        "  (sigmoid_val, logical_val) = AND_obj.predict(input_data)\n",
        "  print(input_data,\" = \", logical_val,'\\n')\n"
      ],
      "metadata": {
        "colab": {
          "base_uri": "https://localhost:8080/"
        },
        "id": "1yLd8Ky240s7",
        "outputId": "cf6d5471-3549-472e-f471-a3038ec8e122"
      },
      "execution_count": 13,
      "outputs": [
        {
          "output_type": "stream",
          "name": "stdout",
          "text": [
            "AND_GATE \n",
            "\n",
            "[0 0]  =  0 \n",
            "\n",
            "[0 1]  =  0 \n",
            "\n",
            "[1 0]  =  0 \n",
            "\n",
            "[1 1]  =  1 \n",
            "\n"
          ]
        }
      ]
    },
    {
      "cell_type": "code",
      "source": [
        "xdata = np.array([0,0,0,1,1,0,1,1])\n",
        "tdata = np.array([0,1,1,1])\n",
        "test = xdata.reshape(4,2)\n",
        "print(test)\n",
        "OR_obj = LogicGate(\"AND_GATE\",xdata,tdata)\n",
        "\n",
        "OR_obj.train()"
      ],
      "metadata": {
        "colab": {
          "base_uri": "https://localhost:8080/"
        },
        "id": "a3N-Kb669IB5",
        "outputId": "e8843070-b407-42e0-d081-f9d1f4422e48"
      },
      "execution_count": 14,
      "outputs": [
        {
          "output_type": "stream",
          "name": "stdout",
          "text": [
            "[[0 0]\n",
            " [0 1]\n",
            " [1 0]\n",
            " [1 1]]\n",
            "Initial error value =  1.630166085478461\n",
            "step =  0 error value =  1.6274860116851049\n",
            "step =  400 error value =  1.0503456734303773\n",
            "step =  800 error value =  0.7701145885621031\n",
            "step =  1200 error value =  0.6028483980432232\n",
            "step =  1600 error value =  0.49259520421373715\n",
            "step =  2000 error value =  0.4148860728466444\n",
            "step =  2400 error value =  0.3574172241597692\n",
            "step =  2800 error value =  0.3133419710002928\n",
            "step =  3200 error value =  0.278557799106687\n",
            "step =  3600 error value =  0.2504638443366407\n",
            "step =  4000 error value =  0.2273358431905536\n",
            "step =  4400 error value =  0.20798818716430467\n",
            "step =  4800 error value =  0.19158043209851927\n",
            "step =  5200 error value =  0.17750120180876475\n",
            "step =  5600 error value =  0.16529574396179034\n",
            "step =  6000 error value =  0.1546191893430193\n",
            "step =  6400 error value =  0.14520551139122598\n",
            "step =  6800 error value =  0.13684638514190806\n",
            "step =  7200 error value =  0.12937646389723098\n",
            "step =  7600 error value =  0.12266291996441608\n",
            "step =  8000 error value =  0.11659788126051934\n"
          ]
        }
      ]
    },
    {
      "cell_type": "code",
      "source": [
        "xdata = np.array([0,0,0,1,1,0,1,1])\n",
        "tdata = np.array([1,1,1,0])\n",
        "test = xdata.reshape(4,2)\n",
        "print(test)\n",
        "NAND_obj = LogicGate(\"AND_GATE\",xdata,tdata)\n",
        "\n",
        "NAND_obj.train()"
      ],
      "metadata": {
        "colab": {
          "base_uri": "https://localhost:8080/"
        },
        "id": "fpPx6Cia9QHm",
        "outputId": "eb7142d3-8b40-43ea-badd-e839fcb413fd"
      },
      "execution_count": 15,
      "outputs": [
        {
          "output_type": "stream",
          "name": "stdout",
          "text": [
            "[[0 0]\n",
            " [0 1]\n",
            " [1 0]\n",
            " [1 1]]\n",
            "Initial error value =  3.2671654161195\n",
            "step =  0 error value =  3.25940826813725\n",
            "step =  400 error value =  1.783463368061863\n",
            "step =  800 error value =  1.26259528477076\n",
            "step =  1200 error value =  0.9915825370824509\n",
            "step =  1600 error value =  0.8207649992979464\n",
            "step =  2000 error value =  0.701274561511313\n",
            "step =  2400 error value =  0.612265416597152\n",
            "step =  2800 error value =  0.5431239207624916\n",
            "step =  3200 error value =  0.48777033874971676\n",
            "step =  3600 error value =  0.4424252181367603\n",
            "step =  4000 error value =  0.40459542761566647\n",
            "step =  4400 error value =  0.3725609588752749\n",
            "step =  4800 error value =  0.3450928162479216\n",
            "step =  5200 error value =  0.32128766120734414\n",
            "step =  5600 error value =  0.3004658250223625\n",
            "step =  6000 error value =  0.2821057528091475\n",
            "step =  6400 error value =  0.2658004023124069\n",
            "step =  6800 error value =  0.25122740091722295\n",
            "step =  7200 error value =  0.23812811332071537\n",
            "step =  7600 error value =  0.2262926450709525\n",
            "step =  8000 error value =  0.21554889776248398\n"
          ]
        }
      ]
    },
    {
      "cell_type": "code",
      "source": [
        "input_data = np.array([[0,0],[0,1],[1,0],[1,1]])\n",
        "\n",
        "s1 = []\n",
        "s2 = []\n",
        "\n",
        "new_input_data = []\n",
        "final_output = []\n",
        "\n",
        "print (len(input_data))\n",
        "\n",
        "for index in range(len(input_data)):\n",
        "\n",
        "  s1 = NAND_obj.predict(input_data[index])\n",
        "  s2 = OR_obj.predict(input_data[index])\n",
        "  print(\"s1 is {}\".format(s1))\n",
        "  print(\"s2 is {}\".format(s2))\n",
        "\n",
        "  new_input_data.append(s1[-1])\n",
        "  new_input_data.append(s1[-1])\n",
        "\n",
        "  (sigmoid_val, logical_val) = AND_obj.predict(np.array(new_input_data))\n",
        "\n",
        "  final_output.append(logical_val)\n",
        "  new_input_data = []\n",
        "\n",
        "\n",
        "for index in range(len(input_data)):\n",
        "  print(input_data[index], \"=\", final_output[index],end='')\n",
        "  print('\\n')\n",
        "  \n",
        "\n"
      ],
      "metadata": {
        "colab": {
          "base_uri": "https://localhost:8080/"
        },
        "id": "rrHzxLi_9ZlT",
        "outputId": "21008235-a1be-46ec-af21-fd50017e9820"
      },
      "execution_count": 17,
      "outputs": [
        {
          "output_type": "stream",
          "name": "stdout",
          "text": [
            "4\n",
            "s1 is (array([0.99960637]), 1)\n",
            "s2 is (array([0.06338463]), 0)\n",
            "s1 is (array([0.93907592]), 1)\n",
            "s2 is (array([0.97473529]), 1)\n",
            "s1 is (array([0.93907727]), 1)\n",
            "s2 is (array([0.9748408]), 1)\n",
            "s1 is (array([0.0855561]), 0)\n",
            "s2 is (array([0.99995473]), 1)\n",
            "[0 0] = 1\n",
            "\n",
            "[0 1] = 1\n",
            "\n",
            "[1 0] = 1\n",
            "\n",
            "[1 1] = 0\n",
            "\n"
          ]
        }
      ]
    }
  ]
}