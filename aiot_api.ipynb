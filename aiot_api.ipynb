{
  "nbformat": 4,
  "nbformat_minor": 0,
  "metadata": {
    "colab": {
      "name": "aiot_api.ipynb",
      "provenance": [],
      "authorship_tag": "ABX9TyPgE5Yfozm4P2PXeFvsOkIs",
      "include_colab_link": true
    },
    "kernelspec": {
      "name": "python3",
      "display_name": "Python 3"
    },
    "language_info": {
      "name": "python"
    }
  },
  "cells": [
    {
      "cell_type": "markdown",
      "metadata": {
        "id": "view-in-github",
        "colab_type": "text"
      },
      "source": [
        "<a href=\"https://colab.research.google.com/github/ariwells2001/mlfromscratch/blob/main/aiot_api.ipynb\" target=\"_parent\"><img src=\"https://colab.research.google.com/assets/colab-badge.svg\" alt=\"Open In Colab\"/></a>"
      ]
    },
    {
      "cell_type": "code",
      "execution_count": 22,
      "metadata": {
        "id": "Czc68HcVafz0"
      },
      "outputs": [],
      "source": [
        "import time\n",
        "import requests\n",
        "import json\n",
        "import hashlib"
      ]
    },
    {
      "cell_type": "code",
      "execution_count": 39,
      "metadata": {
        "id": "53jHvDVPz3Kw"
      },
      "outputs": [],
      "source": [
        "\n",
        "keyVar = {\n",
        "\n",
        "    'AppidVar' : '869584076517146624aa4c13',\n",
        "    'AppkeyVar' : 'zwkrdnjdksbk2l22055jmj5mu207syev',\n",
        "    'KeyidVar' : 'K.887346485335605248',\n",
        "    'AccesstokenVar' : '05e3a77b197b00edeab880c80f91114e'\n",
        "}\n",
        "\n",
        "def getKeyVar(myAccesstoken):\n",
        "  #print(\"GETINFO getHeaders \")\n",
        "  currentUTC = str(round(time.time(),3))\n",
        "  tTime = currentUTC.replace('.','')\n",
        "  tAppid = keyVar['AppidVar']\n",
        "  tAccesstoken = myAccesstoken\n",
        "  tKeyid = keyVar['KeyidVar']\n",
        "  tAppKey = keyVar['AppkeyVar']\n",
        "  tNonce = tTime\n",
        "  tPreSign = \"\"\n",
        "\n",
        "  if tAccesstoken != None:\n",
        "    tPreSign = \"Accesstoken=\" + tAccesstoken + \"&\"\n",
        "\n",
        "  tempSign = tPreSign + \"Appid=\" + tAppid + \"&\" + \"Keyid=\" + tKeyid + \"&\" + \"Nonce=\" + tNonce + \"&\" + \"Time=\" + tTime + tAppKey\n",
        "  tPreSign = tempSign.lower()\n",
        "  tSign = str(hashlib.md5(tPreSign.encode()).hexdigest())\n",
        "\n",
        "  resultKeyVar = {\n",
        "      'Time': tTime,\n",
        "      'Nonce': tNonce,\n",
        "      'Sign': tSign,\n",
        "        }\n",
        "  print(resultKeyVar)\n",
        "  return resultKeyVar\n"
      ]
    },
    {
      "cell_type": "code",
      "source": [
        "# Important variables\n",
        "resultKeyVar = getKeyVar(keyVar['AccesstokenVar'])\n",
        "\n",
        "keyVariables = {\n",
        "    'SignVar' : resultKeyVar['Sign'],\n",
        "    'TimeVar' : resultKeyVar['Time'],\n",
        "    'NonceVar' : resultKeyVar['Nonce'],\n",
        "    'AppidVar' : '869584076517146624aa4c13',\n",
        "    'AppkeyVar' : 'zwkrdnjdksbk2l22055jmj5mu207syev',\n",
        "    'KeyidVar' : 'K.887346485335605248',\n",
        "    'AccesstokenVar' : '05e3a77b197b00edeab880c80f91114e',\n",
        "    'RefreshtokenVar' : 'e533ca4d39d450b3dc109d6a9948a9fa',\n",
        "    'urlVar' : 'https://open-kr.aqara.com/v3.0/open/api',\n",
        "    'urlCodeAuth20' : 'https://open-kr.aqara.com/v3.0/open/authorize',\n",
        "    'urlAccessTokenAuth20' : 'https://open-kr.aqara.com/v3.0/open/access_token'\n",
        "}\n",
        "print(keyVariables['AppidVar'])\n",
        "headers = {\n",
        "   'Content-Type' : 'application/json;charset=utf-8',\n",
        "   'Appid' : keyVariables['AppidVar'],\n",
        "   'Accesstoken': keyVariables['AccesstokenVar'],\n",
        "   'Keyid': keyVariables['KeyidVar'],\n",
        "   'AppKey': keyVariables['AppkeyVar'],\n",
        "   'Time': keyVariables['TimeVar'],\n",
        "   'Nonce': keyVariables['NonceVar'],\n",
        "   'Sign': keyVariables['SignVar']\n",
        "}\n",
        "\n",
        "body = {\n",
        "    \"intent\": \"query.position.info\",\n",
        "    \"data\": {\n",
        "        \n",
        "        \"pageNum\": 1,\n",
        "        \"pageSize\": 10\n",
        "    }\n",
        "}\n",
        "\n",
        "data = str(json.dumps(body))\n",
        "response = requests.post(keyVariables['urlVar'],headers=headers, data=data)\n",
        "response = json.loads(response.text)\n",
        "print (response)\n"
      ],
      "metadata": {
        "colab": {
          "base_uri": "https://localhost:8080/"
        },
        "id": "bWtSVC2Yants",
        "outputId": "08b93fd0-a9c0-408a-caae-a71cf0bf7382"
      },
      "execution_count": 40,
      "outputs": [
        {
          "output_type": "stream",
          "name": "stdout",
          "text": [
            "{'Time': '1644939221032', 'Nonce': '1644939221032', 'Sign': '0cf50783624c153879803af346322e89'}\n",
            "869584076517146624aa4c13\n",
            "{'code': 0, 'message': 'Success', 'msgDetails': None, 'requestId': '397.89616.16449392216696589', 'result': {'data': [{'positionName': 'ariwells', 'positionId': 'real1.943230005821034496', 'createTime': 1644925157766, 'description': '', 'parentPositionId': ''}, {'positionName': 'myRoom', 'positionId': 'real1.925004592751202304', 'createTime': 1640579880676, 'description': '', 'parentPositionId': ''}, {'positionName': 'simplicity', 'positionId': 'real1.603532766829146112', 'createTime': 1563935024714, 'description': '', 'parentPositionId': ''}], 'totalCount': 3}}\n"
          ]
        }
      ]
    },
    {
      "cell_type": "code",
      "source": [
        ""
      ],
      "metadata": {
        "colab": {
          "base_uri": "https://localhost:8080/"
        },
        "id": "FXeJqXClbEg9",
        "outputId": "dec79f52-8160-4ec3-fe99-4e663b0a7a8a"
      },
      "execution_count": null,
      "outputs": [
        {
          "output_type": "stream",
          "name": "stdout",
          "text": [
            "{'code': 105, 'requestId': '', 'message': 'Request failed. Please try again.', 'messageDetail': 'Data package has expired:1480438946225'}\n"
          ]
        }
      ]
    }
  ]
}